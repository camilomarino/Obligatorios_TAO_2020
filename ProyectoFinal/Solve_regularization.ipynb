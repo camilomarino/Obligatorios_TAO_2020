{
 "cells": [
  {
   "cell_type": "code",
   "execution_count": 7,
   "metadata": {},
   "outputs": [
    {
     "name": "stdout",
     "output_type": "stream",
     "text": [
      "The autoreload extension is already loaded. To reload it, use:\n",
      "  %reload_ext autoreload\n"
     ]
    }
   ],
   "source": [
    "import numpy as np\n",
    "import pandas as pd\n",
    "import matplotlib.pyplot as plt\n",
    "from matplotlib import rcParams\n",
    "from tqdm import tqdm\n",
    "import ampds_preprocessing\n",
    "#import utils\n",
    "from time import time\n",
    "import pickle\n",
    "%load_ext autoreload\n",
    "%autoreload 2"
   ]
  },
  {
   "cell_type": "code",
   "execution_count": 10,
   "metadata": {},
   "outputs": [],
   "source": [
    "with open('arrays/df.pickle', 'rb') as fp:\n",
    "    df = pickle.load(fp)\n",
    "# divide los dataframes entre agregados y desagregados\n",
    "individual = df.loc[:, df.columns.get_level_values('name')!='WHE']\n",
    "aggregate = df.loc[:, df.columns.get_level_values('name')=='WHE']"
   ]
  },
  {
   "cell_type": "code",
   "execution_count": 8,
   "metadata": {},
   "outputs": [],
   "source": [
    "D = np.load('arrays/D.npy')\n",
    "X = np.load('arrays/X.npy')"
   ]
  },
  {
   "cell_type": "markdown",
   "metadata": {},
   "source": [
    "# Problema a resolver\n",
    "Se intenta resolver un problema similar al del paper https://arxiv.org/pdf/1704.07308.pdf. El problema es el siguiente:\n",
    "$$min_A ||X - DA||_{F}^2$$\n",
    "\n",
    "$$\\text{ s.t. $A_{i,j}>0$ $\\forall i,j$}$$\n",
    "\n",
    "- $D$ (Matriz de diccionario): Es una matriz cuyas columnas son las bases del consumo de energeia electrico (se espera poder estimar el consumo sea una combinación lineal de estos vectores).\n",
    "\n",
    "- $X$ (Matriz de datos a proyectar): Es una matriz en la que cada columna representa el consumo electrico de que se quiere proyectar sobre las columnas de $D$."
   ]
  },
  {
   "cell_type": "markdown",
   "metadata": {},
   "source": [
    "## Implementación\n",
    "Se implementa mediante apgd. El tipo de aceleración que se elige es ADAM."
   ]
  },
  {
   "cell_type": "code",
   "execution_count": 11,
   "metadata": {},
   "outputs": [],
   "source": [
    "names = list(ampds_preprocessing.FULL_NAME.keys())\n",
    "names.remove('WHE')\n",
    "sum_current_elec = np.empty((len(names), X.shape[1]))\n",
    "mask = np.zeros(D.shape[1], dtype=int)\n",
    "for i, s in enumerate(names):\n",
    "    # Mascara para tener solo el electrodomestico de interes\n",
    "    mask[(individual.columns.get_level_values('name')==s)[0:D.shape[1]]] = i\n",
    "n_mask = len(names)"
   ]
  },
  {
   "cell_type": "code",
   "execution_count": 18,
   "metadata": {},
   "outputs": [
    {
     "data": {
      "text/plain": [
       "[<matplotlib.lines.Line2D at 0x7fca918654c0>]"
      ]
     },
     "execution_count": 18,
     "metadata": {},
     "output_type": "execute_result"
    },
    {
     "data": {
      "image/png": "[encoded data removed]",
      "text/plain": [
       "<Figure size 432x288 with 1 Axes>"
      ]
     },
     "metadata": {
      "needs_background": "light"
     },
     "output_type": "display_data"
    }
   ],
   "source": [
    "plt.plot((mask==1)[:100])"
   ]
  },
  {
   "cell_type": "code",
   "execution_count": 20,
   "metadata": {},
   "outputs": [
    {
     "data": {
      "text/plain": [
       "20"
      ]
     },
     "execution_count": 20,
     "metadata": {},
     "output_type": "execute_result"
    }
   ],
   "source": [
    "len(np.unique(mask))"
   ]
  },
  {
   "cell_type": "code",
   "execution_count": 35,
   "metadata": {},
   "outputs": [
    {
     "data": {
      "text/plain": [
       "(581,)"
      ]
     },
     "execution_count": 35,
     "metadata": {},
     "output_type": "execute_result"
    }
   ],
   "source": [
    "U[i, mask==0].shape"
   ]
  },
  {
   "cell_type": "code",
   "execution_count": 46,
   "metadata": {},
   "outputs": [],
   "source": [
    "from get_arrays import get_Q, get_U, get_G, get_H\n",
    "Q = get_Q(mask)\n",
    "U = get_U(mask, X.shape[1])"
   ]
  },
  {
   "cell_type": "code",
   "execution_count": 52,
   "metadata": {},
   "outputs": [
    {
     "data": {
      "text/plain": [
       "array([1.e-03, 1.e-02, 1.e-01, 1.e+00, 1.e+01, 1.e+02])"
      ]
     },
     "execution_count": 52,
     "metadata": {},
     "output_type": "execute_result"
    }
   ],
   "source": [
    "np.logspace(-3, 2, 6)"
   ]
  },
  {
   "cell_type": "code",
   "execution_count": 54,
   "metadata": {},
   "outputs": [
    {
     "name": "stdout",
     "output_type": "stream",
     "text": [
      "BETA: 0.001\n",
      "[iter:0]\t36890968.00\n",
      "[iter:1000]\t1265417.38\n",
      "[iter:2000]\t1184886.75\n",
      "[iter:3000]\t1147263.50\n",
      "[iter:4000]\t1123113.25\n",
      "[iter:5000]\t1106389.38\n",
      "[iter:6000]\t1094724.62\n",
      "[iter:7000]\t1086515.62\n",
      "[iter:8000]\t1080575.50\n",
      "[iter:9000]\t1076125.12\n",
      "[iter:10000]\t1072718.88\n",
      "[iter:11000]\t1070059.38\n",
      "[iter:12000]\t1067959.25\n",
      "[iter:13000]\t1066268.50\n",
      "[iter:14000]\t1064870.38\n",
      "[iter:15000]\t1063693.38\n",
      "[iter:16000]\t1062687.12\n",
      "[iter:17000]\t1061813.75\n",
      "[iter:18000]\t1061043.62\n",
      "[iter:19000]\t1060360.12\n",
      "[iter:20000]\t1059754.12\n",
      "[iter:21000]\t1059217.38\n",
      "[iter:22000]\t1058740.75\n",
      "[iter:23000]\t1058317.00\n",
      "[iter:24000]\t1057939.00\n",
      "[iter:25000]\t1057601.12\n",
      "[iter:26000]\t1057300.12\n",
      "[iter:27000]\t1057032.75\n",
      "[iter:28000]\t1056796.50\n",
      "[iter:29000]\t1056589.00\n",
      "[iter:30000]\t1056408.38\n",
      "[iter:31000]\t1056260.25\n",
      "[iter:32000]\t1056140.88\n",
      "[iter:33000]\t1056042.00\n",
      "[iter:34000]\t1055958.75\n",
      "[iter:35000]\t1055888.75\n",
      "[iter:36000]\t1055830.25\n",
      "[iter:37000]\t1055782.88\n",
      "[iter:38000]\t1055745.50\n",
      "[iter:39000]\t1055716.38\n",
      "[iter:40000]\t1055693.25\n",
      "[iter:41000]\t1055675.50\n",
      "[iter:42000]\t1055660.88\n",
      "[iter:43000]\t1055649.38\n",
      "[iter:44000]\t1055641.38\n",
      "[iter:45000]\t1055635.62\n",
      "Tiempo: 229.3\n",
      "\n",
      "\n",
      "\n",
      "\n",
      "\n",
      "BETA: 0.01\n",
      "[iter:0]\t36890968.00\n",
      "[iter:1000]\t1265938.12\n",
      "[iter:2000]\t1186708.38\n",
      "[iter:3000]\t1150667.62\n",
      "[iter:4000]\t1127965.38\n",
      "[iter:5000]\t1112439.12\n",
      "[iter:6000]\t1101724.38\n",
      "[iter:7000]\t1094264.88\n",
      "[iter:8000]\t1088917.00\n",
      "[iter:9000]\t1084949.12\n",
      "[iter:10000]\t1081934.38\n",
      "[iter:11000]\t1079600.38\n",
      "[iter:12000]\t1077762.12\n",
      "[iter:13000]\t1076283.38\n",
      "[iter:14000]\t1075060.38\n",
      "[iter:15000]\t1074029.12\n",
      "[iter:16000]\t1073147.00\n",
      "[iter:17000]\t1072379.88\n",
      "[iter:18000]\t1071703.38\n",
      "[iter:19000]\t1071102.75\n",
      "[iter:20000]\t1070568.88\n",
      "[iter:21000]\t1070093.50\n",
      "[iter:22000]\t1069671.25\n",
      "[iter:23000]\t1069294.38\n",
      "[iter:24000]\t1068958.62\n",
      "[iter:25000]\t1068660.75\n",
      "[iter:26000]\t1068396.50\n",
      "[iter:27000]\t1068163.62\n",
      "[iter:28000]\t1067959.25\n",
      "[iter:29000]\t1067781.38\n",
      "[iter:30000]\t1067630.75\n",
      "[iter:31000]\t1067509.50\n",
      "[iter:32000]\t1067412.12\n",
      "[iter:33000]\t1067332.62\n",
      "[iter:34000]\t1067267.62\n",
      "[iter:35000]\t1067214.38\n",
      "[iter:36000]\t1067172.75\n",
      "[iter:37000]\t1067140.50\n",
      "[iter:38000]\t1067116.00\n",
      "[iter:39000]\t1067098.12\n",
      "[iter:40000]\t1067084.50\n",
      "[iter:41000]\t1067074.62\n",
      "[iter:42000]\t1067068.38\n",
      "Tiempo: 223.5\n",
      "\n",
      "\n",
      "\n",
      "\n",
      "\n",
      "BETA: 0.1\n",
      "[iter:0]\t36890992.00\n",
      "[iter:1000]\t1289368.25\n",
      "[iter:2000]\t1235701.50\n",
      "[iter:3000]\t1218714.62\n",
      "[iter:4000]\t1209810.62\n",
      "[iter:5000]\t1204334.50\n",
      "[iter:6000]\t1200943.88\n",
      "[iter:7000]\t1198782.00\n",
      "[iter:8000]\t1197333.12\n",
      "[iter:9000]\t1196305.62\n",
      "[iter:10000]\t1195552.50\n",
      "[iter:11000]\t1194977.25\n",
      "[iter:12000]\t1194530.25\n",
      "[iter:13000]\t1194169.75\n",
      "[iter:14000]\t1193875.00\n",
      "[iter:15000]\t1193628.00\n",
      "[iter:16000]\t1193418.38\n",
      "[iter:17000]\t1193238.88\n",
      "[iter:18000]\t1193082.62\n",
      "[iter:19000]\t1192949.00\n",
      "[iter:20000]\t1192834.38\n",
      "[iter:21000]\t1192735.38\n",
      "[iter:22000]\t1192649.00\n",
      "[iter:23000]\t1192574.62\n",
      "[iter:24000]\t1192513.88\n",
      "[iter:25000]\t1192468.00\n",
      "[iter:26000]\t1192436.75\n",
      "[iter:27000]\t1192416.25\n",
      "[iter:28000]\t1192405.38\n",
      "Tiempo: 145.3\n",
      "\n",
      "\n",
      "\n",
      "\n",
      "\n",
      "BETA: 1.0\n",
      "[iter:0]\t36893684.00\n",
      "[iter:1000]\t1422459.75\n",
      "[iter:2000]\t1407333.88\n",
      "[iter:3000]\t1405220.38\n",
      "[iter:4000]\t1404715.38\n",
      "[iter:5000]\t1404577.12\n",
      "[iter:6000]\t1404532.25\n",
      "[iter:7000]\t1404519.88\n",
      "Tiempo: 38.1\n",
      "\n",
      "\n",
      "\n",
      "\n",
      "\n",
      "BETA: 10.0\n",
      "[iter:0]\t37162968.00\n",
      "[iter:1000]\t1783426.88\n",
      "[iter:2000]\t1777344.62\n",
      "[iter:3000]\t1776658.62\n",
      "[iter:4000]\t1776566.50\n",
      "[iter:5000]\t1776545.00\n",
      "Tiempo: 29.1\n",
      "\n",
      "\n",
      "\n",
      "\n",
      "\n",
      "BETA: 100.0\n",
      "[iter:0]\t64090960.00\n",
      "[iter:1000]\t2307418.00\n",
      "[iter:2000]\t2272316.25\n",
      "[iter:3000]\t2262653.75\n",
      "[iter:4000]\t2259303.75\n",
      "[iter:5000]\t2258081.00\n",
      "Tiempo: 32.8\n",
      "\n",
      "\n",
      "\n",
      "\n",
      "\n"
     ]
    }
   ],
   "source": [
    "A_s2k = dict()\n",
    "losses_s2k = dict()\n",
    "for beta in np.logspace(-3, 2, 6):\n",
    "    print(f'BETA: {beta}')\n",
    "    G = get_G(X, U, beta)\n",
    "    H = get_G(D, Q, beta)\n",
    "    t1 = time()\n",
    "    A_s2k[beta], cost, losses_s2k[beta] = adam_pgd(H, G, early_stopping=100)\n",
    "    t2 = time()\n",
    "    print(f'Tiempo: {t2-t1:.1f}')\n",
    "    print('\\n'*4)"
   ]
  },
  {
   "cell_type": "code",
   "execution_count": 65,
   "metadata": {},
   "outputs": [
    {
     "data": {
      "image/png": "[encoded data removed]",
      "text/plain": [
       "<Figure size 432x288 with 1 Axes>"
      ]
     },
     "metadata": {
      "needs_background": "light"
     },
     "output_type": "display_data"
    },
    {
     "data": {
      "image/png": "[encoded data removed]",
      "text/plain": [
       "<Figure size 432x288 with 1 Axes>"
      ]
     },
     "metadata": {
      "needs_background": "light"
     },
     "output_type": "display_data"
    },
    {
     "data": {
      "image/png": "[encoded data removed]",
      "text/plain": [
       "<Figure size 432x288 with 1 Axes>"
      ]
     },
     "metadata": {
      "needs_background": "light"
     },
     "output_type": "display_data"
    },
    {
     "data": {
      "image/png": "[encoded data removed]",
      "text/plain": [
       "<Figure size 432x288 with 1 Axes>"
      ]
     },
     "metadata": {
      "needs_background": "light"
     },
     "output_type": "display_data"
    },
    {
     "data": {
      "image/png": "[encoded data removed]",
      "text/plain": [
       "<Figure size 432x288 with 1 Axes>"
      ]
     },
     "metadata": {
      "needs_background": "light"
     },
     "output_type": "display_data"
    },
    {
     "data": {
      "image/png": "[encoded data removed]",
      "text/plain": [
       "<Figure size 432x288 with 1 Axes>"
      ]
     },
     "metadata": {
      "needs_background": "light"
     },
     "output_type": "display_data"
    }
   ],
   "source": [
    "from utils import plot_loss\n",
    "for (_, A), (beta,loss) in zip(A_s2k.items(), losses_s2k.items()):\n",
    "    loss = np.array(loss)\n",
    "    np.save(f'arrays/A_s2k_reg_{beta}.npy', A)\n",
    "    np.save('arrays/losses_s2k_reg_{beta}.npy', loss)\n",
    "    plot_loss(loss, title=rf'$\\beta={beta}$')"
   ]
  },
  {
   "cell_type": "code",
   "execution_count": 66,
   "metadata": {},
   "outputs": [
    {
     "name": "stdout",
     "output_type": "stream",
     "text": [
      "Sun Dec 27 17:21:13 2020       \n",
      "+-----------------------------------------------------------------------------+\n",
      "| NVIDIA-SMI 450.51.06    Driver Version: 450.51.06    CUDA Version: 11.0     |\n",
      "|-------------------------------+----------------------+----------------------+\n",
      "| GPU  Name        Persistence-M| Bus-Id        Disp.A | Volatile Uncorr. ECC |\n",
      "| Fan  Temp  Perf  Pwr:Usage/Cap|         Memory-Usage | GPU-Util  Compute M. |\n",
      "|                               |                      |               MIG M. |\n",
      "|===============================+======================+======================|\n",
      "|   0  Tesla P100-PCIE...  Off  | 00000000:37:00.0 Off |                    0 |\n",
      "| N/A   61C    P0    44W / 250W |   2869MiB / 12198MiB |      0%      Default |\n",
      "|                               |                      |                  N/A |\n",
      "+-------------------------------+----------------------+----------------------+\n",
      "                                                                               \n",
      "+-----------------------------------------------------------------------------+\n",
      "| Processes:                                                                  |\n",
      "|  GPU   GI   CI        PID   Type   Process name                  GPU Memory |\n",
      "|        ID   ID                                                   Usage      |\n",
      "|=============================================================================|\n",
      "|    0   N/A  N/A     35323      C   ...nda3/envs/mine/bin/python      919MiB |\n",
      "|    0   N/A  N/A     36715      C   ...nda3/envs/mine/bin/python      919MiB |\n",
      "|    0   N/A  N/A     36837      C   ...nda3/envs/mine/bin/python     1029MiB |\n",
      "+-----------------------------------------------------------------------------+\n"
     ]
    }
   ],
   "source": [
    "!nvidia-smi"
   ]
  }
 ],
 "metadata": {
  "kernelspec": {
   "display_name": "Python 3",
   "language": "python",
   "name": "python3"
  },
  "language_info": {
   "codemirror_mode": {
    "name": "ipython",
    "version": 3
   },
   "file_extension": ".py",
   "mimetype": "text/x-python",
   "name": "python",
   "nbconvert_exporter": "python",
   "pygments_lexer": "ipython3",
   "version": "3.8.5"
  }
 },
 "nbformat": 4,
 "nbformat_minor": 4
}
