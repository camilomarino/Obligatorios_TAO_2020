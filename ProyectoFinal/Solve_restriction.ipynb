{
 "cells": [
  {
   "cell_type": "code",
   "execution_count": 1,
   "metadata": {},
   "outputs": [
    {
     "name": "stderr",
     "output_type": "stream",
     "text": [
      "\n",
      "Bad key \"text.kerning_factor\" on line 4 in\n",
      "/clusteruy/home/cmarino/miniconda3/envs/mine/lib/python3.8/site-packages/matplotlib/mpl-data/stylelib/_classic_test_patch.mplstyle.\n",
      "You probably need to get an updated matplotlibrc file from\n",
      "https://github.com/matplotlib/matplotlib/blob/v3.1.2/matplotlibrc.template\n",
      "or from the matplotlib source distribution\n"
     ]
    }
   ],
   "source": [
    "import numpy as np\n",
    "import pandas as pd\n",
    "import matplotlib.pyplot as plt\n",
    "from matplotlib import rcParams\n",
    "from tqdm import tqdm\n",
    "#import utils\n",
    "import ampds_preprocessing\n",
    "from time import time\n",
    "import pickle\n",
    "%load_ext autoreload\n",
    "%autoreload 2"
   ]
  },
  {
   "cell_type": "code",
   "execution_count": 35,
   "metadata": {},
   "outputs": [],
   "source": [
    "with open('arrays/df.pickle', 'rb') as fp:\n",
    "    df = pickle.load(fp)\n",
    "# divide los dataframes entre agregados y desagregados\n",
    "individual = df.loc[:, df.columns.get_level_values('name')!='WHE']\n",
    "aggregate = df.loc[:, df.columns.get_level_values('name')=='WHE']"
   ]
  },
  {
   "cell_type": "code",
   "execution_count": 28,
   "metadata": {},
   "outputs": [],
   "source": [
    "D = np.load('arrays/D.npy')\n",
    "X = np.load('arrays/X.npy')"
   ]
  },
  {
   "cell_type": "markdown",
   "metadata": {},
   "source": [
    "# Problema a resolver\n",
    "Se intenta resolver un problema similar al del paper https://arxiv.org/pdf/1704.07308.pdf. El problema es el siguiente:\n",
    "$$min_A ||X - DA||_{F}^2$$\n",
    "\n",
    "$$\\text{ s.t. $A_{i,j}>0$ $\\forall i,j$}$$\n",
    "\n",
    "- $D$ (Matriz de diccionario): Es una matriz cuyas columnas son las bases del consumo de energeia electrico (se espera poder estimar el consumo sea una combinación lineal de estos vectores).\n",
    "\n",
    "- $X$ (Matriz de datos a proyectar): Es una matriz en la que cada columna representa el consumo electrico de que se quiere proyectar sobre las columnas de $D$."
   ]
  },
  {
   "cell_type": "markdown",
   "metadata": {},
   "source": [
    "## Implementación\n",
    "Se implementa mediante apgd. El tipo de aceleración que se elige es ADAM."
   ]
  },
  {
   "cell_type": "code",
   "execution_count": 12,
   "metadata": {},
   "outputs": [],
   "source": [
    "names = list(ampds_preprocessing.FULL_NAME.keys())\n",
    "names.remove('WHE')\n",
    "sum_current_elec = np.empty((len(names), X.shape[1]))\n",
    "mask = np.zeros(D.shape[1], dtype=int)\n",
    "for i, s in enumerate(names):\n",
    "    # Mascara para tener solo el electrodomestico de interes\n",
    "    mask[(individual.columns.get_level_values('name')==s)[0:D.shape[1]]] = i\n",
    "n_mask = len(names)"
   ]
  },
  {
   "cell_type": "code",
   "execution_count": 14,
   "metadata": {},
   "outputs": [
    {
     "name": "stdout",
     "output_type": "stream",
     "text": [
      "[iter:0]\t36890960.00\n",
      "Tiempo: 0.8\n"
     ]
    }
   ],
   "source": [
    "from apgd import adam_pgd\n",
    "t1 = time()\n",
    "A_s2k, cost, losses_s2k = adam_pgd(D, X, mask=mask, n_mask=n_mask, \n",
    "                                   early_stopping=50)\n",
    "t2 = time()\n",
    "print(f'Tiempo: {t2-t1:.1f}')"
   ]
  },
  {
   "cell_type": "code",
   "execution_count": 17,
   "metadata": {},
   "outputs": [
    {
     "data": {
      "text/plain": [
       "61"
      ]
     },
     "execution_count": 17,
     "metadata": {},
     "output_type": "execute_result"
    }
   ],
   "source": [
    "len(losses_s2k)"
   ]
  },
  {
   "cell_type": "code",
   "execution_count": 29,
   "metadata": {},
   "outputs": [],
   "source": [
    "losses_s2k = np.array(losses_s2k)\n",
    "np.save('arrays/A_s2k.npy', A_s2k)\n",
    "np.save('arrays/losses_s2k.npy', losses_s2k)"
   ]
  },
  {
   "cell_type": "code",
   "execution_count": 30,
   "metadata": {},
   "outputs": [],
   "source": [
    "from utils import plot_loss"
   ]
  },
  {
   "cell_type": "code",
   "execution_count": 34,
   "metadata": {},
   "outputs": [
    {
     "data": {
      "image/png": "[encoded data removed]",
      "text/plain": [
       "<Figure size 432x288 with 1 Axes>"
      ]
     },
     "metadata": {
      "needs_background": "light"
     },
     "output_type": "display_data"
    }
   ],
   "source": [
    "plot_loss(losses_s2k)"
   ]
  }
 ],
 "metadata": {
  "kernelspec": {
   "display_name": "Python 3",
   "language": "python",
   "name": "python3"
  },
  "language_info": {
   "codemirror_mode": {
    "name": "ipython",
    "version": 3
   },
   "file_extension": ".py",
   "mimetype": "text/x-python",
   "name": "python",
   "nbconvert_exporter": "python",
   "pygments_lexer": "ipython3",
   "version": "3.8.5"
  }
 },
 "nbformat": 4,
 "nbformat_minor": 4
}
