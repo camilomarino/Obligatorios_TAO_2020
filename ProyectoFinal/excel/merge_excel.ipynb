{
 "cells": [
  {
   "cell_type": "code",
   "execution_count": 28,
   "metadata": {},
   "outputs": [],
   "source": [
    "import pandas as pd\n",
    "import os"
   ]
  },
  {
   "cell_type": "code",
   "execution_count": 29,
   "metadata": {},
   "outputs": [],
   "source": [
    "xlss = [xls for xls in os.listdir() if xls.endswith('xls')]\n",
    "try:\n",
    "    xlss.remove('all_results.xls')\n",
    "except ValueError:\n",
    "    pass"
   ]
  },
  {
   "cell_type": "code",
   "execution_count": 30,
   "metadata": {},
   "outputs": [
    {
     "data": {
      "text/plain": [
       "['data_real.xls', 'data_s2k_reg_10.0.xls', 'data_s2k.xls', 'data_simple.xls']"
      ]
     },
     "execution_count": 30,
     "metadata": {},
     "output_type": "execute_result"
    }
   ],
   "source": [
    "xlss.sort()\n",
    "xlss = [xlss[i] for i in [0, 2, 1, 3]]\n",
    "xlss"
   ]
  },
  {
   "cell_type": "code",
   "execution_count": 31,
   "metadata": {},
   "outputs": [],
   "source": [
    "dfs = list()\n",
    "for xls in xlss:\n",
    "    df = pd.read_excel(xls, index_col=0)\n",
    "    dfs.append(df)\n",
    "    #print(df)"
   ]
  },
  {
   "cell_type": "code",
   "execution_count": 32,
   "metadata": {},
   "outputs": [],
   "source": [
    "FULL_NAME = {\n",
    "             'WHE': 'Whole-House Meter',\n",
    "             'B1E': 'North Bedroom',\n",
    "             'B2E': 'Master and South Bedroom',\n",
    "             'BME': 'Basement Plugs and Lights',\n",
    "             'CDE': 'Clothes Dryer',\n",
    "             'CWE': 'Clothes Washer',\n",
    "             'DNE': 'Dining Room Plugs',\n",
    "             'DWE': 'Dishwasher',\n",
    "             'EBE': 'Electronics Workbench',\n",
    "             'EQE': 'Security/Network Equipment',\n",
    "             'FGE': 'Kitchen Fridge',\n",
    "             'FRE': 'Forced Air Furnace: Fan and Thermostat',\n",
    "             'GRE': 'Garage',\n",
    "             'HPE': 'Heat Pump',\n",
    "             'HTE': 'Instant Hot Water Unit',\n",
    "             'OFE': 'Home Office',\n",
    "             'OUE': 'Outside Plug',\n",
    "             'RSE': 'Rental Suite',\n",
    "             'TVE': 'Entertainment: TV, PVR, AMP',\n",
    "             'UTE': 'Utility Room Plug',\n",
    "             'WOE': 'Wall Oven',\n",
    "             }\n",
    "\n",
    "#name_columns = {'fround_truth': 'Ground '}"
   ]
  },
  {
   "cell_type": "code",
   "execution_count": 33,
   "metadata": {},
   "outputs": [],
   "source": [
    "pd.concat(dfs, axis=1).rename(index=FULL_NAME).to_excel('all_results.xls')"
   ]
  },
  {
   "cell_type": "code",
   "execution_count": null,
   "metadata": {},
   "outputs": [],
   "source": []
  }
 ],
 "metadata": {
  "kernelspec": {
   "display_name": "Python 3",
   "language": "python",
   "name": "python3"
  },
  "language_info": {
   "codemirror_mode": {
    "name": "ipython",
    "version": 3
   },
   "file_extension": ".py",
   "mimetype": "text/x-python",
   "name": "python",
   "nbconvert_exporter": "python",
   "pygments_lexer": "ipython3",
   "version": "3.8.5"
  }
 },
 "nbformat": 4,
 "nbformat_minor": 4
}
