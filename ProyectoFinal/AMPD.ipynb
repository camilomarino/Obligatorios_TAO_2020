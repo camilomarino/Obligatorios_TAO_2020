{
 "cells": [
  {
   "cell_type": "code",
   "execution_count": 3,
   "metadata": {},
   "outputs": [],
   "source": [
    "import numpy as np\n",
    "import pandas as pd\n",
    "import matplotlib.pyplot as plt\n",
    "from tqdm import tqdm\n",
    "import nilmtk\n",
    "import utils\n",
    "from pgd import pgd\n",
    "from nnls import nnls\n",
    "%load_ext autoreload\n",
    "%autoreload 2"
   ]
  },
  {
   "cell_type": "markdown",
   "metadata": {},
   "source": [
    "### Exploración de la Base AMPDs v2\n",
    "Se utuliza nilmtk para la carga de datos. AMPds se puede bajar desde https://dataverse.harvard.edu/dataset.xhtml?persistentId=doi:10.7910/DVN/FIE0S4. Dentro del zip esta el archivo AMPds2.h5"
   ]
  },
  {
   "cell_type": "code",
   "execution_count": 5,
   "metadata": {},
   "outputs": [],
   "source": [
    "path_h5  = 'ampds2.h5'\n",
    "ds = nilmtk.DataSet(path_h5)"
   ]
  },
  {
   "cell_type": "markdown",
   "metadata": {},
   "source": [
    "Exprolemos las fechas y largos del dataset."
   ]
  },
  {
   "cell_type": "code",
   "execution_count": 6,
   "metadata": {},
   "outputs": [],
   "source": [
    "def get_fechas(x):\n",
    "    index = next(x.load()).index\n",
    "    return index[0], index[-1]\n",
    "\n",
    "def get_largos(x):\n",
    "    serie = next(x.load())\n",
    "    return len(serie)\n",
    "\n",
    "fechas = list(map(get_fechas, ds.buildings[1].elec.all_meters()))\n",
    "largos = list(map(get_largos, ds.buildings[1].elec.all_meters()))"
   ]
  },
  {
   "cell_type": "code",
   "execution_count": 7,
   "metadata": {},
   "outputs": [
    {
     "data": {
      "text/plain": [
       "[(Timestamp('2012-04-01 00:00:00-0700', tz='America/Vancouver'),\n",
       "  Timestamp('2014-03-31 23:59:00-0700', tz='America/Vancouver')),\n",
       " (Timestamp('2012-04-01 00:00:00-0700', tz='America/Vancouver'),\n",
       "  Timestamp('2014-03-31 23:59:00-0700', tz='America/Vancouver')),\n",
       " (Timestamp('2012-04-01 00:00:00-0700', tz='America/Vancouver'),\n",
       "  Timestamp('2014-03-31 23:59:00-0700', tz='America/Vancouver')),\n",
       " (Timestamp('2012-04-01 00:00:00-0700', tz='America/Vancouver'),\n",
       "  Timestamp('2014-03-31 23:59:00-0700', tz='America/Vancouver')),\n",
       " (Timestamp('2012-04-01 00:00:00-0700', tz='America/Vancouver'),\n",
       "  Timestamp('2014-03-31 23:59:00-0700', tz='America/Vancouver')),\n",
       " (Timestamp('2012-04-01 00:00:00-0700', tz='America/Vancouver'),\n",
       "  Timestamp('2014-03-31 23:59:00-0700', tz='America/Vancouver')),\n",
       " (Timestamp('2012-04-01 00:00:00-0700', tz='America/Vancouver'),\n",
       "  Timestamp('2014-03-31 23:59:00-0700', tz='America/Vancouver')),\n",
       " (Timestamp('2012-04-01 00:00:00-0700', tz='America/Vancouver'),\n",
       "  Timestamp('2014-03-31 23:59:00-0700', tz='America/Vancouver')),\n",
       " (Timestamp('2012-04-01 00:00:00-0700', tz='America/Vancouver'),\n",
       "  Timestamp('2014-03-31 23:59:00-0700', tz='America/Vancouver')),\n",
       " (Timestamp('2012-04-01 00:00:00-0700', tz='America/Vancouver'),\n",
       "  Timestamp('2014-03-31 23:59:00-0700', tz='America/Vancouver')),\n",
       " (Timestamp('2012-04-01 00:00:00-0700', tz='America/Vancouver'),\n",
       "  Timestamp('2014-03-31 23:59:00-0700', tz='America/Vancouver')),\n",
       " (Timestamp('2012-04-01 00:00:00-0700', tz='America/Vancouver'),\n",
       "  Timestamp('2014-03-31 23:59:00-0700', tz='America/Vancouver')),\n",
       " (Timestamp('2012-04-01 00:00:00-0700', tz='America/Vancouver'),\n",
       "  Timestamp('2014-03-31 23:59:00-0700', tz='America/Vancouver')),\n",
       " (Timestamp('2012-04-01 00:00:00-0700', tz='America/Vancouver'),\n",
       "  Timestamp('2014-03-31 23:59:00-0700', tz='America/Vancouver')),\n",
       " (Timestamp('2012-04-01 00:00:00-0700', tz='America/Vancouver'),\n",
       "  Timestamp('2014-03-31 23:59:00-0700', tz='America/Vancouver')),\n",
       " (Timestamp('2012-04-01 00:00:00-0700', tz='America/Vancouver'),\n",
       "  Timestamp('2014-03-31 23:59:00-0700', tz='America/Vancouver')),\n",
       " (Timestamp('2012-04-01 00:00:00-0700', tz='America/Vancouver'),\n",
       "  Timestamp('2014-03-31 23:59:00-0700', tz='America/Vancouver')),\n",
       " (Timestamp('2012-04-01 00:00:00-0700', tz='America/Vancouver'),\n",
       "  Timestamp('2014-03-31 23:59:00-0700', tz='America/Vancouver')),\n",
       " (Timestamp('2012-04-01 00:00:00-0700', tz='America/Vancouver'),\n",
       "  Timestamp('2014-03-31 23:59:00-0700', tz='America/Vancouver')),\n",
       " (Timestamp('2012-04-01 00:00:00-0700', tz='America/Vancouver'),\n",
       "  Timestamp('2014-03-31 23:59:00-0700', tz='America/Vancouver')),\n",
       " (Timestamp('2012-04-01 00:00:00-0700', tz='America/Vancouver'),\n",
       "  Timestamp('2014-03-31 23:59:00-0700', tz='America/Vancouver'))]"
      ]
     },
     "execution_count": 7,
     "metadata": {},
     "output_type": "execute_result"
    }
   ],
   "source": [
    "fechas"
   ]
  },
  {
   "cell_type": "code",
   "execution_count": 8,
   "metadata": {},
   "outputs": [],
   "source": [
    "ds.set_window(start='2012-04-01', end='2013-03-01')"
   ]
  },
  {
   "cell_type": "code",
   "execution_count": 9,
   "metadata": {},
   "outputs": [
    {
     "data": {
      "text/plain": [
       "[1051200,\n",
       " 1051200,\n",
       " 1051200,\n",
       " 1051200,\n",
       " 1051200,\n",
       " 1051200,\n",
       " 1051200,\n",
       " 1051200,\n",
       " 1051200,\n",
       " 1051200,\n",
       " 1051200,\n",
       " 1051200,\n",
       " 1051200,\n",
       " 1051200,\n",
       " 1051200,\n",
       " 1051200,\n",
       " 1051200,\n",
       " 1051200,\n",
       " 1051200,\n",
       " 1051200,\n",
       " 1051200]"
      ]
     },
     "execution_count": 9,
     "metadata": {},
     "output_type": "execute_result"
    }
   ],
   "source": [
    "largos"
   ]
  },
  {
   "cell_type": "markdown",
   "metadata": {},
   "source": [
    "Notar que todas tienen los mismos largos y mismas fechas. **Es decir, esta muestrados al mismo tiempo!!! Esto es ideal para no tener que realizar pre-procesamiento de alineado**"
   ]
  },
  {
   "cell_type": "markdown",
   "metadata": {},
   "source": [
    "### Obtención de matrices para resolución del problema\n",
    "Se intenta resolver un problema similar al del paper https://arxiv.org/pdf/1704.07308.pdf.\n",
    "El problema es el siguiente:\n",
    "$$\n",
    "\\min _{A}\\|G-H A\\|_{F}^{2} \n",
    "$$\n",
    "$$\\text{  s.t.  $A_{i,j}>0$ $\\forall i,j$}$$\n",
    "con:\n",
    "$$ G =\n",
    "\\left[\\begin{array}{c}\n",
    "\\bar{X} \\\\\n",
    "\\beta U\n",
    "\\end{array}\\right]$$\n",
    "\n",
    "\n",
    "$$ H = \n",
    "\\left[\\begin{array}{c}\n",
    "D \\\\\n",
    "\\beta Q\n",
    "\\end{array}\\right]\n",
    "$$\n",
    "\n",
    "- $D$ una matriz cuyas columnas son las bases del consumo de energeia electrico (se espera poder estimar el consumo sea una combinación lineal de estos vectores).\n",
    "\n",
    "- $X$ un matriz en la que cada columna representa el consumo electrico de que se quiere proyectar sobre las columnas de $D$\n",
    "\n",
    "- $U$ matriz de $1's$, su objetivo es regularizar el problema con al sum-to-k condition, como se explica en el paper\n",
    "\n",
    "- $Q$ mismo objetivo que $U$\n",
    "\n",
    "- $\\beta$ fuerza regularizadora. En el paper dice ser un valor pequeño.\n",
    "\n",
    "Algunas ideas extras:\n",
    "1. Incluir informacion de la cantida de ejemplos que se esta queriendo proyectar, ya que de esto depende poder encontrar un $\\beta$ unico para cualquier cantidad de ejemplos.\n",
    "2. Restrigir a que $A$<1, ya que un electrodomestico no deberia aportar más que 1.\n"
   ]
  },
  {
   "cell_type": "code",
   "execution_count": 10,
   "metadata": {},
   "outputs": [],
   "source": [
    "# La función get_D divide la serie de consumo por días y la retorna\n",
    "def label(x):\n",
    "    if x.is_site_meter():\n",
    "        return {'original_name': 'WHM','room': 'Whole-House Meter'}\n",
    "    else:\n",
    "        return x.appliances[0].metadata\n",
    "def label_and_D(x):\n",
    "    return label(x), utils.get_D(x)"
   ]
  },
  {
   "cell_type": "code",
   "execution_count": 11,
   "metadata": {},
   "outputs": [],
   "source": [
    "data_submters = list(map(label_and_D, ds.buildings[1].elec.submeters().all_meters()))\n",
    "data_mains = list(map(label_and_D, [ds.buildings[1].elec.mains()]))"
   ]
  },
  {
   "cell_type": "code",
   "execution_count": 13,
   "metadata": {},
   "outputs": [
    {
     "data": {
      "text/plain": [
       "({'original_name': 'B1E',\n",
       "  'room': 'North Bedroom',\n",
       "  'type': 'light',\n",
       "  'description': 'Plugs and lights',\n",
       "  'instance': 1,\n",
       "  'meters': [2],\n",
       "  'dataset': 'AMPds',\n",
       "  'building': 1},\n",
       " array([[0., 0., 0., ..., 0., 0., 0.],\n",
       "        [0., 0., 0., ..., 0., 0., 0.],\n",
       "        [0., 0., 0., ..., 0., 0., 0.],\n",
       "        ...,\n",
       "        [0., 0., 0., ..., 0., 0., 0.],\n",
       "        [0., 0., 0., ..., 0., 0., 0.],\n",
       "        [0., 0., 0., ..., 0., 0., 0.]], dtype=float32))"
      ]
     },
     "execution_count": 13,
     "metadata": {},
     "output_type": "execute_result"
    }
   ],
   "source": [
    "data_submters[0]"
   ]
  },
  {
   "cell_type": "code",
   "execution_count": 14,
   "metadata": {},
   "outputs": [
    {
     "data": {
      "text/plain": [
       "{0: 'Plugs and lights',\n",
       " 1: 'Plugs and lights',\n",
       " 2: 'Partial Plugs and lights',\n",
       " 3: 'Clothes Dryer',\n",
       " 4: 'Clothes Washer',\n",
       " 5: 'Plugs',\n",
       " 6: 'Dishwasher',\n",
       " 7: 'Electronics Workbench',\n",
       " 8: 'Security/Network Equipment',\n",
       " 9: 'Fridge',\n",
       " 10: 'Forced Air Furnace Fan and Thermostat',\n",
       " 11: 'Sub-Panel, Detached Building',\n",
       " 12: 'Heat Pump',\n",
       " 13: 'Instant Hot Water Unit',\n",
       " 14: 'Home Office',\n",
       " 15: 'Plugs',\n",
       " 16: 'Sub-Panel, Basement, 1 Occupant',\n",
       " 17: 'Entertainment:TV, PVR, AMP',\n",
       " 18: 'Utility Plug',\n",
       " 19: 'Wall Oven'}"
      ]
     },
     "execution_count": 14,
     "metadata": {},
     "output_type": "execute_result"
    }
   ],
   "source": [
    "dict(enumerate(map(lambda x:x[0]['description'], data_submters)))"
   ]
  },
  {
   "cell_type": "code",
   "execution_count": 15,
   "metadata": {},
   "outputs": [
    {
     "data": {
      "text/plain": [
       "[(0, (1440, 301)),\n",
       " (1, (1440, 319)),\n",
       " (2, (1440, 313)),\n",
       " (3, (1440, 160)),\n",
       " (4, (1440, 122)),\n",
       " (5, (1440, 197)),\n",
       " (6, (1440, 106)),\n",
       " (7, (1440, 203)),\n",
       " (8, (1440, 333)),\n",
       " (9, (1440, 333)),\n",
       " (10, (1440, 333)),\n",
       " (11, (1440, 333)),\n",
       " (12, (1440, 333)),\n",
       " (13, (1440, 333)),\n",
       " (14, (1440, 333)),\n",
       " (15, (1440, 1)),\n",
       " (16, (1440, 333)),\n",
       " (17, (1440, 333)),\n",
       " (18, (1440, 333)),\n",
       " (19, (1440, 333))]"
      ]
     },
     "execution_count": 15,
     "metadata": {},
     "output_type": "execute_result"
    }
   ],
   "source": [
    "list(enumerate(map(lambda x:x[1].shape, data_submters)))"
   ]
  },
  {
   "cell_type": "code",
   "execution_count": 16,
   "metadata": {},
   "outputs": [
    {
     "data": {
      "text/plain": [
       "({'original_name': 'WHM', 'room': 'Whole-House Meter'},\n",
       " array([[ 8.3,  6.6, 19.8, ...,  5.8,  7.1,  4.9],\n",
       "        [ 8.2,  6.6, 19.9, ...,  7.2,  6. ,  4.9],\n",
       "        [ 8. ,  6.4, 19.8, ...,  7. ,  6.2,  4.9],\n",
       "        ...,\n",
       "        [ 4.3, 24.8,  8.4, ...,  7. ,  4.9,  6.2],\n",
       "        [ 4.3, 23.1,  8.1, ...,  7.1,  4.9,  7.3],\n",
       "        [ 5.7, 19.9,  7.9, ...,  7. ,  5. ,  7.3]], dtype=float32))"
      ]
     },
     "execution_count": 16,
     "metadata": {},
     "output_type": "execute_result"
    }
   ],
   "source": [
    "data_mains[0]"
   ]
  },
  {
   "cell_type": "code",
   "execution_count": 18,
   "metadata": {},
   "outputs": [],
   "source": [
    "array_por_dia = list(map(lambda x:x[1], data_submters))\n",
    "array_agregado_por_dia = list(map(lambda x:x[1], data_mains))"
   ]
  },
  {
   "cell_type": "markdown",
   "metadata": {},
   "source": [
    "Considemermos como primer aproximación. Estimar unicamente el consumo de la heladera a partir de otras heladeras."
   ]
  },
  {
   "cell_type": "code",
   "execution_count": 88,
   "metadata": {},
   "outputs": [],
   "source": [
    "fridge = array_por_dia[9]\n",
    "ClothesDryer = array_por_dia[3]\n",
    "ClothesWasher = array_por_dia[4]\n",
    "Plugs = array_por_dia[5]\n",
    "Dishwasher = array_por_dia[6]"
   ]
  },
  {
   "cell_type": "code",
   "execution_count": 21,
   "metadata": {},
   "outputs": [
    {
     "data": {
      "text/plain": [
       "[<matplotlib.lines.Line2D at 0x7f13b7e7c6a0>]"
      ]
     },
     "execution_count": 21,
     "metadata": {},
     "output_type": "execute_result"
    },
    {
     "data": {
      "image/png": "[encoded data removed]",
      "text/plain": [
       "<Figure size 432x288 with 1 Axes>"
      ]
     },
     "metadata": {
      "needs_background": "light"
     },
     "output_type": "display_data"
    },
    {
     "data": {
      "image/png": "[encoded data removed]",
      "text/plain": [
       "<Figure size 432x288 with 1 Axes>"
      ]
     },
     "metadata": {
      "needs_background": "light"
     },
     "output_type": "display_data"
    }
   ],
   "source": [
    "plt.plot(fridge[:,0])\n",
    "plt.figure()\n",
    "plt.plot(fridge[:,-1])"
   ]
  },
  {
   "cell_type": "code",
   "execution_count": 22,
   "metadata": {},
   "outputs": [
    {
     "data": {
      "text/plain": [
       "array([[0. , 1.2, 0. , ..., 1. , 1. , 0. ],\n",
       "       [0. , 1.2, 0. , ..., 1. , 0. , 0. ],\n",
       "       [0. , 1.1, 0. , ..., 1. , 0. , 0. ],\n",
       "       ...,\n",
       "       [0.1, 1. , 1. , ..., 1. , 0. , 1.1],\n",
       "       [0.1, 0.8, 1. , ..., 1. , 0. , 1.1],\n",
       "       [0.1, 0. , 1. , ..., 1. , 0. , 1.1]], dtype=float32)"
      ]
     },
     "execution_count": 22,
     "metadata": {},
     "output_type": "execute_result"
    }
   ],
   "source": [
    "fridge"
   ]
  },
  {
   "cell_type": "markdown",
   "metadata": {},
   "source": [
    "Vamos a estimar los ultimos 2 días a partir de los primeros 5. Empezemos con el caso más sencillo posbile, $\\beta=0$. Es decir,\n",
    "$$\n",
    "\\min _{A}\\|X-D A\\|_{F}^{2} \n",
    "$$\n",
    "$$\\text{  s.t.  $A_{i,j}>0$ $\\forall i,j$}$$"
   ]
  },
  {
   "cell_type": "markdown",
   "metadata": {},
   "source": [
    "### Calculo de D"
   ]
  },
  {
   "cell_type": "code",
   "execution_count": 55,
   "metadata": {},
   "outputs": [
    {
     "data": {
      "text/plain": [
       "[(301, 'Plugs and lights'),\n",
       " (620, 'Plugs and lights'),\n",
       " (933, 'Partial Plugs and lights'),\n",
       " (1093, 'Clothes Dryer'),\n",
       " (1215, 'Clothes Washer'),\n",
       " (1412, 'Plugs'),\n",
       " (1518, 'Dishwasher'),\n",
       " (1721, 'Electronics Workbench'),\n",
       " (2054, 'Security/Network Equipment'),\n",
       " (2387, 'Fridge'),\n",
       " (2720, 'Forced Air Furnace Fan and Thermostat'),\n",
       " (3053, 'Sub-Panel, Detached Building'),\n",
       " (3386, 'Heat Pump'),\n",
       " (3719, 'Instant Hot Water Unit'),\n",
       " (4052, 'Home Office'),\n",
       " (4053, 'Plugs'),\n",
       " (4386, 'Sub-Panel, Basement, 1 Occupant'),\n",
       " (4719, 'Entertainment:TV, PVR, AMP'),\n",
       " (5052, 'Utility Plug'),\n",
       " (5385, 'Wall Oven')]"
      ]
     },
     "execution_count": 55,
     "metadata": {},
     "output_type": "execute_result"
    }
   ],
   "source": [
    "list(zip(np.cumsum([a.shape[1] for a in array_por_dia]), (map(lambda x:x[0]['description'], data_submters))))"
   ]
  },
  {
   "cell_type": "code",
   "execution_count": 77,
   "metadata": {},
   "outputs": [
    {
     "data": {
      "text/plain": [
       "((1440, 296), (1440, 301))"
      ]
     },
     "execution_count": 77,
     "metadata": {},
     "output_type": "execute_result"
    }
   ],
   "source": [
    "array_por_dia_ = list(map(lambda x:x[:,:-5], array_por_dia))\n",
    "array_por_dia_[0].shape, array_por_dia[0].shape"
   ]
  },
  {
   "cell_type": "code",
   "execution_count": 237,
   "metadata": {},
   "outputs": [],
   "source": [
    "D = np.concatenate(array_por_dia_, axis=1)[:,:933]#fridge[:, :-1]\n",
    "#X = np.concatenate(array_agregado_por_dia, axis=1)#fridge[:, -1:]\n",
    "\n",
    "X = ClothesDryer[:, -5:]+Dishwasher[:,-5:] #+ np.clip(np.random.normal(scale=0, size=X.shape), 0, None)"
   ]
  },
  {
   "cell_type": "code",
   "execution_count": 238,
   "metadata": {},
   "outputs": [
    {
     "data": {
      "text/plain": [
       "<matplotlib.legend.Legend at 0x7f13b70e30a0>"
      ]
     },
     "execution_count": 238,
     "metadata": {},
     "output_type": "execute_result"
    },
    {
     "data": {
      "image/png": "[encoded data removed]",
      "text/plain": [
       "<Figure size 432x288 with 1 Axes>"
      ]
     },
     "metadata": {
      "needs_background": "light"
     },
     "output_type": "display_data"
    }
   ],
   "source": [
    "i=0\n",
    "plt.plot(X[:, i], label='Real')\n",
    "plt.plot(ClothesDryer[:, -5], label='ClothesDryer')\n",
    "plt.legend()"
   ]
  },
  {
   "cell_type": "code",
   "execution_count": 239,
   "metadata": {},
   "outputs": [
    {
     "data": {
      "text/plain": [
       "(1440, 933)"
      ]
     },
     "execution_count": 239,
     "metadata": {},
     "output_type": "execute_result"
    }
   ],
   "source": [
    "D.shape"
   ]
  },
  {
   "cell_type": "code",
   "execution_count": 240,
   "metadata": {},
   "outputs": [
    {
     "data": {
      "text/plain": [
       "(1440, 5)"
      ]
     },
     "execution_count": 240,
     "metadata": {},
     "output_type": "execute_result"
    }
   ],
   "source": [
    "X.shape"
   ]
  },
  {
   "cell_type": "code",
   "execution_count": 241,
   "metadata": {},
   "outputs": [
    {
     "data": {
      "text/plain": [
       "Text(0, 0.5, 'corriente')"
      ]
     },
     "execution_count": 241,
     "metadata": {},
     "output_type": "execute_result"
    },
    {
     "data": {
      "image/png": "[encoded data removed]",
      "text/plain": [
       "<Figure size 432x288 with 1 Axes>"
      ]
     },
     "metadata": {
      "needs_background": "light"
     },
     "output_type": "display_data"
    }
   ],
   "source": [
    "# plt.figure()\n",
    "# for i in range(D.shape[1]):\n",
    "#     plt.plot(D[:,i])\n",
    "plt.figure()\n",
    "for i in range(X.shape[1]):\n",
    "    plt.plot(X[:,i])\n",
    "\n",
    "plt.xlabel('tiempo')\n",
    "plt.ylabel('corriente')"
   ]
  },
  {
   "cell_type": "code",
   "execution_count": 242,
   "metadata": {},
   "outputs": [],
   "source": [
    "# pro_pgd, cost_pgd = pgd(D, X[:, 0:1], weight_decay=1e0)\n",
    "# cost_pgd\n",
    "#pro_nnls, cost_nnls = nnls(D, X[:, 0:1])\n",
    "#print(cost_pgd, cost_nnls)\n",
    "# plt.figure()\n",
    "# plt.plot(X[:,])"
   ]
  },
  {
   "cell_type": "code",
   "execution_count": 263,
   "metadata": {},
   "outputs": [
    {
     "name": "stderr",
     "output_type": "stream",
     "text": [
      "100%|██████████| 10000/10000 [00:06<00:00, 1579.48it/s]\n"
     ]
    },
    {
     "name": "stdout",
     "output_type": "stream",
     "text": [
      "Cantidad de iteraciones: 9999\n",
      "Tiempo: 6.46\n"
     ]
    }
   ],
   "source": [
    "from fnnls import fnnls\n",
    "from time import time\n",
    "from scipy.optimize import nnls\n",
    "#from nnls import nnls\n",
    "\n",
    "i = 0\n",
    "pro_nnls, cost_nnls = pgd(D, X[:, i])#, max_iter=100000)"
   ]
  },
  {
   "cell_type": "code",
   "execution_count": 264,
   "metadata": {},
   "outputs": [
    {
     "data": {
      "text/plain": [
       "23.477422401972174"
      ]
     },
     "execution_count": 264,
     "metadata": {},
     "output_type": "execute_result"
    }
   ],
   "source": [
    "pro_nnls.sum()"
   ]
  },
  {
   "cell_type": "code",
   "execution_count": 265,
   "metadata": {},
   "outputs": [
    {
     "data": {
      "text/plain": [
       "33974.95313652826"
      ]
     },
     "execution_count": 265,
     "metadata": {},
     "output_type": "execute_result"
    }
   ],
   "source": [
    "cost_nnls"
   ]
  },
  {
   "cell_type": "code",
   "execution_count": 266,
   "metadata": {},
   "outputs": [],
   "source": [
    "#pro_nnls"
   ]
  },
  {
   "cell_type": "code",
   "execution_count": 267,
   "metadata": {},
   "outputs": [
    {
     "data": {
      "text/plain": [
       "<matplotlib.legend.Legend at 0x7f13b928c0a0>"
      ]
     },
     "execution_count": 267,
     "metadata": {},
     "output_type": "execute_result"
    },
    {
     "data": {
      "image/png": "[encoded data removed]",
      "text/plain": [
       "<Figure size 432x288 with 1 Axes>"
      ]
     },
     "metadata": {
      "needs_background": "light"
     },
     "output_type": "display_data"
    }
   ],
   "source": [
    "plt.plot((D*pro_nnls).sum(axis=1), label='Estimada')\n",
    "plt.plot(X[:, i], label='Real')\n",
    "plt.legend()"
   ]
  },
  {
   "cell_type": "code",
   "execution_count": 268,
   "metadata": {},
   "outputs": [
    {
     "name": "stdout",
     "output_type": "stream",
     "text": [
      "15.45 Plugs and lights\n",
      "1.44 Plugs and lights\n",
      "6.59 Partial Plugs and lights\n",
      "0.00 Clothes Dryer\n",
      "0.00 Clothes Washer\n",
      "0.00 Plugs\n",
      "0.00 Dishwasher\n",
      "0.00 Electronics Workbench\n",
      "0.00 Security/Network Equipment\n",
      "0.00 Fridge\n",
      "0.00 Forced Air Furnace Fan and Thermostat\n",
      "0.00 Sub-Panel, Detached Building\n",
      "0.00 Heat Pump\n",
      "0.00 Instant Hot Water Unit\n",
      "0.00 Home Office\n",
      "0.00 Plugs\n",
      "0.00 Sub-Panel, Basement, 1 Occupant\n",
      "0.00 Entertainment:TV, PVR, AMP\n",
      "0.00 Utility Plug\n",
      "0.00 Wall Oven\n"
     ]
    }
   ],
   "source": [
    "limits = list(zip(np.cumsum([a.shape[1] for a in array_por_dia]), (map(lambda x:x[0]['description'], data_submters))))\n",
    "limits.insert(0,(0,''))\n",
    "for i in range(1, len(limits)):\n",
    "    ini = limits[i-1][0]\n",
    "    fin = limits[i][0]\n",
    "    suma = pro_nnls[ini:fin].sum()\n",
    "    if limits[i][1]!='Dishwasher':\n",
    "        pro_nnls[ini:fin]=0\n",
    "    print(f'{suma:.2f}', limits[i][1])\n",
    "    "
   ]
  },
  {
   "cell_type": "code",
   "execution_count": 44,
   "metadata": {},
   "outputs": [
    {
     "data": {
      "text/plain": [
       "0.9100010824592435"
      ]
     },
     "execution_count": 44,
     "metadata": {},
     "output_type": "execute_result"
    }
   ],
   "source": [
    "from utils import PCEC\n",
    "PCEC(X[:,0], estimated)"
   ]
  },
  {
   "cell_type": "markdown",
   "metadata": {},
   "source": [
    "$$f(A) = ||X - DA||_F^2$$\n",
    "$$\\frac{\\partial f}{\\partial A} (A)= -2D^T(X-DA)$$"
   ]
  }
 ],
 "metadata": {
  "kernelspec": {
   "display_name": "Python 3",
   "language": "python",
   "name": "python3"
  },
  "language_info": {
   "codemirror_mode": {
    "name": "ipython",
    "version": 3
   },
   "file_extension": ".py",
   "mimetype": "text/x-python",
   "name": "python",
   "nbconvert_exporter": "python",
   "pygments_lexer": "ipython3",
   "version": "3.8.5"
  }
 },
 "nbformat": 4,
 "nbformat_minor": 4
}
