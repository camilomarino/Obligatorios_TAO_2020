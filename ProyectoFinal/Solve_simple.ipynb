{
 "cells": [
  {
   "cell_type": "code",
   "execution_count": 8,
   "metadata": {},
   "outputs": [
    {
     "name": "stdout",
     "output_type": "stream",
     "text": [
      "The autoreload extension is already loaded. To reload it, use:\n",
      "  %reload_ext autoreload\n"
     ]
    }
   ],
   "source": [
    "import numpy as np\n",
    "import pandas as pd\n",
    "import matplotlib.pyplot as plt\n",
    "from matplotlib import rcParams\n",
    "from tqdm import tqdm\n",
    "#import utils\n",
    "from time import time\n",
    "import pickle\n",
    "%load_ext autoreload\n",
    "%autoreload 2"
   ]
  },
  {
   "cell_type": "code",
   "execution_count": 9,
   "metadata": {},
   "outputs": [],
   "source": [
    "D = np.load('arrays/D.npy')\n",
    "X = np.load('arrays/X.npy')"
   ]
  },
  {
   "cell_type": "markdown",
   "metadata": {},
   "source": [
    "# Problema a resolver\n",
    "Se intenta resolver un problema similar al del paper https://arxiv.org/pdf/1704.07308.pdf. El problema es el siguiente:\n",
    "$$min_A ||X - DA||_{F}^2$$\n",
    "\n",
    "$$\\text{ s.t. $A_{i,j}>0$ $\\forall i,j$}$$\n",
    "\n",
    "- $D$ (Matriz de diccionario): Es una matriz cuyas columnas son las bases del consumo de energeia electrico (se espera poder estimar el consumo sea una combinación lineal de estos vectores).\n",
    "\n",
    "- $X$ (Matriz de datos a proyectar): Es una matriz en la que cada columna representa el consumo electrico de que se quiere proyectar sobre las columnas de $D$."
   ]
  },
  {
   "cell_type": "markdown",
   "metadata": {},
   "source": [
    "## Implementación\n",
    "Se implementa mediante apgd. El tipo de aceleración que se elige es ADAM."
   ]
  },
  {
   "cell_type": "code",
   "execution_count": 15,
   "metadata": {},
   "outputs": [
    {
     "name": "stdout",
     "output_type": "stream",
     "text": [
      "[iter:0]\t36890960.00\n",
      "[iter:1000]\t1265412.12\n",
      "[iter:2000]\t1184867.12\n",
      "[iter:3000]\t1147225.12\n",
      "[iter:4000]\t1123056.38\n",
      "[iter:5000]\t1106316.25\n",
      "[iter:6000]\t1094638.00\n",
      "[iter:7000]\t1086418.12\n",
      "[iter:8000]\t1080469.38\n",
      "[iter:9000]\t1076011.62\n",
      "[iter:10000]\t1072600.00\n",
      "[iter:11000]\t1069935.62\n",
      "[iter:12000]\t1067831.88\n",
      "[iter:13000]\t1066136.38\n",
      "[iter:14000]\t1064736.25\n",
      "[iter:15000]\t1063556.38\n",
      "[iter:16000]\t1062548.25\n",
      "[iter:17000]\t1061673.38\n",
      "[iter:18000]\t1060902.00\n",
      "[iter:19000]\t1060217.62\n",
      "[iter:20000]\t1059611.38\n",
      "[iter:21000]\t1059073.12\n",
      "[iter:22000]\t1058596.12\n",
      "[iter:23000]\t1058171.62\n",
      "[iter:24000]\t1057792.62\n",
      "[iter:25000]\t1057454.50\n",
      "[iter:26000]\t1057153.25\n",
      "[iter:27000]\t1056884.88\n",
      "[iter:28000]\t1056648.50\n",
      "[iter:29000]\t1056440.00\n",
      "[iter:30000]\t1056259.25\n",
      "[iter:31000]\t1056111.50\n",
      "[iter:32000]\t1055991.38\n",
      "[iter:33000]\t1055892.00\n",
      "[iter:34000]\t1055808.12\n",
      "[iter:35000]\t1055737.62\n",
      "[iter:36000]\t1055679.25\n",
      "[iter:37000]\t1055632.12\n",
      "[iter:38000]\t1055594.50\n",
      "[iter:39000]\t1055564.88\n",
      "[iter:40000]\t1055541.50\n",
      "[iter:41000]\t1055523.25\n",
      "[iter:42000]\t1055508.88\n",
      "[iter:43000]\t1055497.62\n",
      "[iter:44000]\t1055489.12\n",
      "[iter:45000]\t1055483.38\n",
      "[iter:46000]\t1055479.38\n",
      "[iter:47000]\t1055477.62\n",
      "[iter:48000]\t1055477.12\n",
      "[iter:49000]\t1055476.88\n",
      "[iter:50000]\t1055476.88\n",
      "[iter:51000]\t1055476.38\n",
      "[iter:52000]\t1055476.38\n",
      "[iter:53000]\t1055476.62\n",
      "[iter:54000]\t1055476.62\n",
      "[iter:55000]\t1055476.62\n",
      "[iter:56000]\t1055476.62\n",
      "[iter:57000]\t1055476.38\n",
      "[iter:58000]\t1055476.62\n",
      "[iter:59000]\t1055476.62\n",
      "[iter:60000]\t1055476.88\n",
      "[iter:61000]\t1055476.88\n",
      "[iter:62000]\t1055476.62\n",
      "[iter:63000]\t1055476.38\n",
      "[iter:64000]\t1055476.62\n",
      "[iter:65000]\t1055476.62\n",
      "[iter:66000]\t1055476.62\n",
      "[iter:67000]\t1055476.88\n",
      "[iter:68000]\t1055476.62\n",
      "[iter:69000]\t1055476.62\n",
      "Tiempo: 329.7\n"
     ]
    }
   ],
   "source": [
    "from apgd import adam_pgd\n",
    "t1 = time()\n",
    "A_simple, cost, losses_simple = adam_pgd(D, X)\n",
    "t2 = time()\n",
    "print(f'Tiempo: {t2-t1:.1f}')"
   ]
  },
  {
   "cell_type": "code",
   "execution_count": 16,
   "metadata": {},
   "outputs": [
    {
     "data": {
      "text/plain": [
       "34856"
      ]
     },
     "execution_count": 16,
     "metadata": {},
     "output_type": "execute_result"
    }
   ],
   "source": [
    "len(losses_s2k)"
   ]
  },
  {
   "cell_type": "code",
   "execution_count": 17,
   "metadata": {},
   "outputs": [],
   "source": [
    "losses_simple = np.array(losses_simple)\n",
    "np.save('arrays/A_simple.npy', A_simple)\n",
    "np.save('arrays/losses_simple.npy', losses_simple)"
   ]
  },
  {
   "cell_type": "code",
   "execution_count": 18,
   "metadata": {},
   "outputs": [],
   "source": [
    "from utils import plot_loss"
   ]
  },
  {
   "cell_type": "code",
   "execution_count": 19,
   "metadata": {},
   "outputs": [
    {
     "data": {
      "image/png": "[encoded data removed]",
      "text/plain": [
       "<Figure size 432x288 with 1 Axes>"
      ]
     },
     "metadata": {
      "needs_background": "light"
     },
     "output_type": "display_data"
    }
   ],
   "source": [
    "plot_loss(losses_simple)"
   ]
  }
 ],
 "metadata": {
  "kernelspec": {
   "display_name": "Python 3",
   "language": "python",
   "name": "python3"
  },
  "language_info": {
   "codemirror_mode": {
    "name": "ipython",
    "version": 3
   },
   "file_extension": ".py",
   "mimetype": "text/x-python",
   "name": "python",
   "nbconvert_exporter": "python",
   "pygments_lexer": "ipython3",
   "version": "3.8.5"
  }
 },
 "nbformat": 4,
 "nbformat_minor": 4
}
